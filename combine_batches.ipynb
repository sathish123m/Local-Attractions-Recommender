{
 "cells": [
  {
   "cell_type": "code",
   "execution_count": null,
   "metadata": {},
   "outputs": [],
   "source": [
    "from pyspark import SparkContext as sc\n",
    "from pyspark.sql import SQLContext\n",
    "from pyspark.sql import SparkSession, functions, types\n",
    "from pyspark.sql.types import *\n",
    "from IPython.display import display\n",
    "import pandas as pd"
   ]
  },
  {
   "cell_type": "code",
   "execution_count": null,
   "metadata": {},
   "outputs": [],
   "source": [
    "sc = sc(appName=\"attraction\")\n",
    "sqlContext = SQLContext(sc)\n",
    "spark = SparkSession.builder.appName('attraction dataset combiner').getOrCreate()"
   ]
  },
  {
   "cell_type": "code",
   "execution_count": null,
   "metadata": {},
   "outputs": [],
   "source": [
    "det1 = 'outputs/attractions_details_batch1.json'\n",
    "det2 = 'outputs/attractions_details_batch2.json'\n",
    "rev1 = 'outputs/attractions_reviews_batch1.json'\n",
    "rev2 = 'outputs/attractions_reviews_batch2.json'\n",
    "attraction_cat = 'outputs/attractions_cat.json'"
   ]
  },
  {
   "cell_type": "code",
   "execution_count": null,
   "metadata": {},
   "outputs": [],
   "source": [
    "cat_df = pd.read_json('outputs/attractions_cat.json',orient='records')\n",
    "cat_df['attraction_id'] = cat_df.index\n",
    "cat_df = cat_df.rename(index=str,columns={\"attraction\": \"url\"})"
   ]
  },
  {
   "cell_type": "code",
   "execution_count": null,
   "metadata": {},
   "outputs": [],
   "source": [
    "schema = StructType([ StructField(\"url\", StringType(), True),\n",
    "                      StructField(\"category\", StringType(), True),\n",
    "                      StructField(\"attraction_id\", IntegerType(), True)])\n",
    "cat_df_spark = spark.createDataFrame(cat_df, schema)"
   ]
  },
  {
   "cell_type": "code",
   "execution_count": null,
   "metadata": {},
   "outputs": [],
   "source": [
    "cat_df_spark.show()"
   ]
  },
  {
   "cell_type": "code",
   "execution_count": null,
   "metadata": {},
   "outputs": [],
   "source": [
    "det1_df = spark.read.json(det1)\n",
    "det2_df = spark.read.json(det2)"
   ]
  },
  {
   "cell_type": "code",
   "execution_count": null,
   "metadata": {},
   "outputs": [],
   "source": [
    "det_joined = det1_df.union(det2_df)\n",
    "det_joined = det_joined.join(cat_df_spark.select(['category','attraction_id']),\"attraction_id\")\n",
    "\n",
    "if det1_df.count() + det2_df.count() == det_joined.count():\n",
    "    print(\"combined successfully!\")\n",
    "else:\n",
    "    print(\"error in dataframe union!\")"
   ]
  },
  {
   "cell_type": "code",
   "execution_count": null,
   "metadata": {},
   "outputs": [],
   "source": [
    "det_joined.write.parquet('outputs/attraction_details',mode='overwrite')"
   ]
  },
  {
   "cell_type": "code",
   "execution_count": null,
   "metadata": {},
   "outputs": [],
   "source": [
    "rev1_df = spark.read.json(rev1)\n",
    "rev2_df = spark.read.json(rev2)"
   ]
  },
  {
   "cell_type": "code",
   "execution_count": null,
   "metadata": {},
   "outputs": [],
   "source": [
    "rev_joined = rev1_df.union(rev2_df)\n",
    "\n",
    "if rev1_df.count() + rev2_df.count() == rev_joined.count():\n",
    "    print(\"combined successfully!\")\n",
    "else:\n",
    "    print(\"error in dataframe union!\")"
   ]
  },
  {
   "cell_type": "code",
   "execution_count": null,
   "metadata": {},
   "outputs": [],
   "source": [
    "rev_joined.write.parquet('outputs/attraction_reviews',mode='overwrite')"
   ]
  },
  {
   "cell_type": "code",
   "execution_count": null,
   "metadata": {},
   "outputs": [],
   "source": [
    "print(det_joined.count())\n",
    "det_joined.show()"
   ]
  },
  {
   "cell_type": "code",
   "execution_count": null,
   "metadata": {},
   "outputs": [],
   "source": [
    "print(rev_joined.count())\n",
    "rev_joined.show()"
   ]
  }
 ],
 "metadata": {
  "kernelspec": {
   "display_name": "Python 3",
   "language": "python",
   "name": "python3"
  },
  "language_info": {
   "codemirror_mode": {
    "name": "ipython",
    "version": 3
   },
   "file_extension": ".py",
   "mimetype": "text/x-python",
   "name": "python",
   "nbconvert_exporter": "python",
   "pygments_lexer": "ipython3",
   "version": "3.5.2"
  }
 },
 "nbformat": 4,
 "nbformat_minor": 2
}
