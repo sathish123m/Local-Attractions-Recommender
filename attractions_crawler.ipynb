{
 "cells": [
  {
   "cell_type": "code",
   "execution_count": null,
   "metadata": {},
   "outputs": [],
   "source": [
    "import requests\n",
    "import lxml.html as lh\n",
    "import pandas as pd\n",
    "import re"
   ]
  },
  {
   "cell_type": "code",
   "execution_count": null,
   "metadata": {},
   "outputs": [],
   "source": [
    "# downloading and saving canada tours and tickets page\n",
    "def scrape(url):\n",
    "    page = requests.get(url)\n",
    "    html = page.content\n",
    "    open('htmlpages/canada_tours.txt','wb').write(html)\n",
    "    categories()"
   ]
  },
  {
   "cell_type": "code",
   "execution_count": null,
   "metadata": {},
   "outputs": [],
   "source": [
    "# get categories of tours and corresponding links\n",
    "def categories():\n",
    "    html = open('htmlpages/canada_tours.txt','r').read()\n",
    "    tree = lh.fromstring(html)\n",
    "    cat = tree.xpath('//div[@class=\"filter_list_0\"]')[0]\n",
    "    tour_categories = cat.xpath('./div/label/a/text()')\n",
    "    category_links = cat.xpath('./div/label/a/@href')\n",
    "    if cat.xpath('./div[@class=\"collapse hidden\"]'):\n",
    "        tour_categories += cat.xpath('./div[@class=\"collapse hidden\"]/div/label/a/text()')\n",
    "        category_links += cat.xpath('./div[@class=\"collapse hidden\"]/div/label/a/@href')\n",
    "    category_links = [base_page+x for x in category_links]\n",
    "    tour_categories = ['_'.join(x.split(' ')[:-1]).lower() for x in tour_categories]\n",
    "    attraction = list()\n",
    "    attraction_category = list()\n",
    "    for i in range(len(tour_categories)):\n",
    "        print(tour_categories[i])\n",
    "        print(category_links[i])\n",
    "        page = requests.get(category_links[i])\n",
    "        open(\"htmlpages/\"+tour_categories[i]+\".txt\",'wb').write(page.content)\n",
    "        output = get_tours(tour_categories[i])\n",
    "        print(len(output))\n",
    "        attraction += output\n",
    "        attraction_category += [tour_categories[i] for x in range(len(output))]\n",
    "    df = pd.DataFrame({'attraction': attraction,'category': attraction_category})\n",
    "    df.to_json('outputs/attractions_cat.json',orient='records',index=True)"
   ]
  },
  {
   "cell_type": "code",
   "execution_count": null,
   "metadata": {},
   "outputs": [],
   "source": [
    "def get_tours(tour_category):\n",
    "    html = open(\"htmlpages/\"+tour_category+\".txt\",'r',encoding='utf-8').read()\n",
    "    tree = lh.fromstring(html)\n",
    "    \n",
    "    attractions = tree.xpath('//div[@class=\"listing attraction_element\"]//div[@class=\"listing_title\"]/a/@onclick')    \n",
    "    attractions = [base_page+attraction.split(';')[-2].split(',')[2][2:-1] for attraction in attractions]\n",
    "   \n",
    "    next_attractions = list()\n",
    "    if tree.xpath(\"//div[@class='unified pagination ']\"):\n",
    "        next_page_container = tree.xpath(\"//div[@class='unified pagination ']\")[0]\n",
    "        if next_page_container.xpath(\"./span/@class\") != [\"nav next disabled\"]:\n",
    "            next_page = base_page+next_page_container.xpath(\"./a[@class='nav next rndBtn ui_button primary taLnk']/@href\")[0]\n",
    "            page_no = next_page_container.xpath(\"./a[@class='nav next rndBtn ui_button primary taLnk']/@data-page-number\")[0]\n",
    "            page = requests.get(next_page)\n",
    "            if bool(re.search(r'\\d',tour_category)):\n",
    "                file_name = re.sub(r'\\d+','',tour_category)+str(page_no)\n",
    "            else:\n",
    "                file_name = tour_category+str(page_no)\n",
    "            open(\"htmlpages/\"+file_name+\".txt\",'wb').write(page.content)\n",
    "            next_attractions = get_tours(file_name)\n",
    "    \n",
    "    if len(next_attractions) != 0:\n",
    "        attractions += next_attractions\n",
    "    \n",
    "    return attractions"
   ]
  },
  {
   "cell_type": "code",
   "execution_count": null,
   "metadata": {},
   "outputs": [],
   "source": [
    "base_page = \"https://tripadvisor.ca\"\n",
    "scrape('https://www.tripadvisor.ca/Attraction_Products-g153339-Canada.html')"
   ]
  }
 ],
 "metadata": {
  "kernelspec": {
   "display_name": "Python 3",
   "language": "python",
   "name": "python3"
  },
  "language_info": {
   "codemirror_mode": {
    "name": "ipython",
    "version": 3
   },
   "file_extension": ".py",
   "mimetype": "text/x-python",
   "name": "python",
   "nbconvert_exporter": "python",
   "pygments_lexer": "ipython3",
   "version": "3.7.2"
  }
 },
 "nbformat": 4,
 "nbformat_minor": 2
}
